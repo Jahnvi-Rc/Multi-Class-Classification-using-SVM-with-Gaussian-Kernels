{
  "nbformat": 4,
  "nbformat_minor": 0,
  "metadata": {
    "kernelspec": {
      "display_name": "Python 3",
      "language": "python",
      "name": "python3"
    },
    "language_info": {
      "codemirror_mode": {
        "name": "ipython",
        "version": 3
      },
      "file_extension": ".py",
      "mimetype": "text/x-python",
      "name": "python",
      "nbconvert_exporter": "python",
      "pygments_lexer": "ipython3",
      "version": "3.7.1"
    },
    "colab": {
      "name": "HW7.ipynb",
      "provenance": [],
      "collapsed_sections": []
    }
  },
  "cells": [
    {
      "cell_type": "code",
      "metadata": {
        "id": "-X3pt88q7Bvz",
        "colab_type": "code",
        "colab": {
          "base_uri": "https://localhost:8080/",
          "height": 70
        },
        "outputId": "887d24dc-cc15-470d-a179-d4becfd14737"
      },
      "source": [
        "import pandas as pd\n",
        "import numpy as np\n",
        "from sklearn.model_selection import train_test_split, cross_val_score\n",
        "from sklearn import svm\n",
        "from sklearn.metrics import hamming_loss, accuracy_score\n",
        "from sklearn.preprocessing import MultiLabelBinarizer, LabelEncoder\n",
        "import math\n",
        "\n",
        "from imblearn.over_sampling import SMOTE"
      ],
      "execution_count": null,
      "outputs": [
        {
          "output_type": "stream",
          "text": [
            "/usr/local/lib/python3.6/dist-packages/sklearn/externals/six.py:31: DeprecationWarning: The module is deprecated in version 0.21 and will be removed in version 0.23 since we've dropped support for Python 2.7. Please rely on the official version of six (https://pypi.org/project/six/).\n",
            "  \"(https://pypi.org/project/six/).\", DeprecationWarning)\n"
          ],
          "name": "stderr"
        }
      ]
    },
    {
      "cell_type": "markdown",
      "metadata": {
        "id": "RoxX1uXTxKc4",
        "colab_type": "text"
      },
      "source": [
        "**`Reading file from Gitthub URL`**"
      ]
    },
    {
      "cell_type": "code",
      "metadata": {
        "id": "PHPeFz1FKyj7",
        "colab_type": "code",
        "colab": {}
      },
      "source": [
        "url = 'https://raw.githubusercontent.com/Jahnvi-Rc/MPR_HW7_data/master/Frogs_MFCCs.csv'\n",
        "df = pd.read_csv(url)"
      ],
      "execution_count": null,
      "outputs": []
    },
    {
      "cell_type": "markdown",
      "metadata": {
        "id": "MLCmKYUvxq06",
        "colab_type": "text"
      },
      "source": [
        " **(a) Download the Anuran Calls (MFCCs) Data Set from: https://archive.ics.\n",
        "uci.edu/ml/datasets/Anuran+Calls+%28MFCCs). Choose 70% of the data ran-\n",
        "domly as the training set.**\n",
        "\n",
        "**(b) Each instance has three labels: Families, Genus, and Species. Each of the labels\n",
        "has multiple classes. We wish to solve a multi-class and multi-label problem.\n",
        "One of the most important approaches to multi-class classi\fcation is to train a\n",
        "classifer for each label. We \frst try this approach:\n",
        "i. Research exact match and hamming score/ loss methods for evaluating multi-\n",
        "label classf\fcation and use them in evaluating the classifers in this problem.**"
      ]
    },
    {
      "cell_type": "code",
      "metadata": {
        "id": "1wGrKC197Bv2",
        "colab_type": "code",
        "colab": {}
      },
      "source": [
        "X = df.drop(labels=['RecordID', 'Family', 'Genus', 'Species'] , axis=1)\n",
        "y = pd.DataFrame(df, columns = ['Family', 'Genus', 'Species'])\n",
        "\n",
        "X_train, X_test, y_train, y_test = train_test_split(X, y, test_size=0.3)\n",
        "y_trn1 = y_train['Family']\n",
        "y_trn2 = y_train['Genus']\n",
        "y_trn3 = y_train['Species']\n",
        "y_tst1 = y_test['Family']\n",
        "y_tst2 = y_test['Genus']\n",
        "y_tst3 = y_test['Species']\n",
        "\n",
        "y_trn1 = y_trn1.astype('category')\n",
        "y_trn2 = y_trn2.astype('category')\n",
        "y_trn3 = y_trn3.astype('category')\n",
        "y_trncat1 = y_trn1.cat.codes\n",
        "y_trncat2 = y_trn2.cat.codes\n",
        "y_trncat3 = y_trn3.cat.codes\n",
        "y_tst1 = y_tst1.astype('category')\n",
        "y_tst2 = y_tst2.astype('category')\n",
        "y_tst3 = y_tst3.astype('category')\n",
        "y_tstcat1 = y_tst1.cat.codes\n",
        "y_tstcat2 = y_tst2.cat.codes\n",
        "y_tstcat3 = y_tst3.cat.codes\n",
        "y_tstcat = pd.concat([y_tstcat1, y_tstcat2, y_tstcat3], axis=1)"
      ],
      "execution_count": null,
      "outputs": []
    },
    {
      "cell_type": "markdown",
      "metadata": {
        "id": "7zkPXGCWyCLi",
        "colab_type": "text"
      },
      "source": [
        " **ii. Train a SVM for each of the labels, using Gaussian kernels and one versus all\n",
        "classifers. Determine the weight of the SVM penalty and the width of the\n",
        "Gaussian Kernel using 10 fold cross validation.1 You are welcome to try to\n",
        "solve the problem with both normalized2 and raw attributes and report the\n",
        "results.**"
      ]
    },
    {
      "cell_type": "code",
      "metadata": {
        "id": "DYN-Zmrq7Bv5",
        "colab_type": "code",
        "colab": {
          "base_uri": "https://localhost:8080/",
          "height": 118
        },
        "outputId": "f44a1c06-5a69-48e5-eb53-29d0abc4e42b"
      },
      "source": [
        "bscore1 = 0\n",
        "bscore2 = 0\n",
        "bscore3 = 0\n",
        "acc_score1 = list()\n",
        "acc_score2 = list()\n",
        "acc_score3 = list()\n",
        "for x in range(-3,4):\n",
        "    sigma= .1\n",
        "    while sigma<=2:\n",
        "        c=10**x\n",
        "        g=1/(2*(sigma**2))\n",
        "        clfr=svm.SVC(C=c, decision_function_shape='ovr', gamma=g)\n",
        "        acc_score1.append(cross_val_score(clfr, X_train, y_trncat1, cv=10,scoring='accuracy').mean())\n",
        "        acc_score2.append(cross_val_score(clfr, X_train, y_trncat2, cv=10,scoring='accuracy').mean())\n",
        "        acc_score3.append(cross_val_score(clfr, X_train, y_trncat3, cv=10,scoring='accuracy').mean())\n",
        "        acc1=max(acc_score1)\n",
        "        acc2=max(acc_score2)\n",
        "        acc3=max(acc_score3)\n",
        "        sigma=sigma + .1\n",
        "        if acc1>bscore1:\n",
        "            bscore1=acc1\n",
        "            best_c1=c\n",
        "            best_gamma1=g\n",
        "        if acc2>bscore2:\n",
        "            bscore2=acc2\n",
        "            best_c2=c\n",
        "            best_gamma2=g\n",
        "        if acc3>bscore3:\n",
        "            bscore3=acc3\n",
        "            best_c3=c\n",
        "            best_gamma3=g\n",
        "print('SVM penalty weight-1 classifier', best_c1)\n",
        "print('Gaussian kernel width-1st classifier', best_gamma1)\n",
        "print('SVM penalty weight-2nd classifier', best_c2)\n",
        "print('Gaussian kernel width-2nd classifier', best_gamma2)\n",
        "print('SVM penalty weight-3rd classifier:', best_c3)\n",
        "print('Gaussian kernel width-3rd classifier', best_gamma3)"
      ],
      "execution_count": null,
      "outputs": [
        {
          "output_type": "stream",
          "text": [
            "SVM penalty weight-1 classifier 100\n",
            "Gaussian kernel width-1st classifier 3.1249999999999996\n",
            "SVM penalty weight-2nd classifier 100\n",
            "Gaussian kernel width-2nd classifier 1.3888888888888888\n",
            "SVM penalty weight-3rd classifier: 100\n",
            "Gaussian kernel width-3rd classifier 2.0\n"
          ],
          "name": "stdout"
        }
      ]
    },
    {
      "cell_type": "code",
      "metadata": {
        "id": "0aCVxDAZ7Bv7",
        "colab_type": "code",
        "colab": {}
      },
      "source": [
        "clfr = svm.SVC(C=best_c1, decision_function_shape='ovr', gamma=best_gamma1)\n",
        "clfr.fit(X_train, y_trncat1)\n",
        "ypred1 = clfr.predict(X_test)\n",
        "clfr = svm.SVC(C=best_c2, decision_function_shape='ovr', gamma=best_gamma2)\n",
        "clfr.fit(X_train, y_trncat2)\n",
        "ypred2 = clfr.predict(X_test)\n",
        "clfr = svm.SVC(C=best_c3, decision_function_shape='ovr', gamma=best_gamma3)\n",
        "clfr.fit(X_train, y_trncat3)\n",
        "ypred3 = clfr.predict(X_test)\n",
        "ypred1 = pd.DataFrame(ypred1,columns=[0])\n",
        "ypred2 = pd.DataFrame(ypred2,columns=[1])\n",
        "ypred3 = pd.DataFrame(ypred3,columns=[2])\n",
        "ypred = pd.concat([ypred1, ypred2, ypred3], axis=1)\n"
      ],
      "execution_count": null,
      "outputs": []
    },
    {
      "cell_type": "code",
      "metadata": {
        "id": "IjHnagCQOGet",
        "colab_type": "code",
        "colab": {
          "base_uri": "https://localhost:8080/",
          "height": 50
        },
        "outputId": "803b8d08-bcf1-4d9a-ca46-cf61aac310b7"
      },
      "source": [
        "def hammings(y_tstcat, ypred):\n",
        "  l = 0\n",
        "  for i in range(0, len(y_tstcat)):\n",
        "    lscore = 0\n",
        "    for j in range(0, 3):\n",
        "      if y_tstcat.iloc[i,j]!= ypred.iloc[i,j]:\n",
        "        lscore = lscore+1\n",
        "      lscore = lscore/3\n",
        "      l=l+lscore\n",
        "  l=l/(len(y_tstcat))\n",
        "  return(l)\n",
        "def exmatch(y_tstcat, ypred):\n",
        "  exmatch=0\n",
        "  for i in range(0, len(y_tstcat)):\n",
        "    if ypred.iloc[i, 0]==y_tstcat.iloc[i, 0] and ypred.iloc[i, 1]==y_tstcat.iloc[i, 1] and ypred.iloc[i, 2]==y_tstcat.iloc[i, 2]:\n",
        "      exmatch = exmatch+1\n",
        "  exmatch = exmatch/(len(y_tstcat))\n",
        "  return exmatch\n",
        "\n",
        "print('Hamming loss of svm with gaussian kernel', hammings(y_tstcat, ypred))\n",
        "print('Exact match of svm with gaussian kernel', exmatch(y_tstcat, ypred))"
      ],
      "execution_count": null,
      "outputs": [
        {
          "output_type": "stream",
          "text": [
            "Hamming loss of svm with gaussian kernel 0.009898272519856581\n",
            "Exact match of svm with gaussian kernel 0.9888837424733673\n"
          ],
          "name": "stdout"
        }
      ]
    },
    {
      "cell_type": "markdown",
      "metadata": {
        "id": "pPaOa24eyLrh",
        "colab_type": "text"
      },
      "source": [
        "**iii. Repeat 1(b)ii with L1-penalized SVMs.3 Remember to normalize the at-\n",
        "tributes.**"
      ]
    },
    {
      "cell_type": "code",
      "metadata": {
        "id": "Z6AcGQKjPIzv",
        "colab_type": "code",
        "colab": {
          "base_uri": "https://localhost:8080/",
          "height": 101
        },
        "outputId": "aaeb1383-e653-4927-8c97-a7e2fa8abd9d"
      },
      "source": [
        "import warnings\n",
        "warnings.filterwarnings('ignore')\n",
        "def L1(X_train1,X_train2, X_train3,y_trncat1, y_trncat2, y_trncat3,X_test,y_tstcat):\n",
        "  bscore1 = 0\n",
        "  bscore2 = 0\n",
        "  bscore3 = 0\n",
        "  acc_score1 = list()\n",
        "  acc_score2 = list()\n",
        "  acc_score3 = list()\n",
        "  for i in range(-3,4):\n",
        "    c = 10**i\n",
        "    linclfr = svm.LinearSVC(C=c, penalty='l1', dual=False, multi_class='ovr')\n",
        "    acc_score1.append(cross_val_score(linclfr, X_train1, y_trncat1, cv=10, scoring='accuracy').mean())\n",
        "    acc_score2.append(cross_val_score(linclfr, X_train2, y_trncat2, cv=10, scoring='accuracy').mean())\n",
        "    acc_score3.append(cross_val_score(linclfr, X_train3, y_trncat3, cv=10, scoring='accuracy').mean())\n",
        "    acc1 = max(acc_score1)\n",
        "    acc2 = max(acc_score2)\n",
        "    acc3 = max(acc_score3)\n",
        "    if acc1>bscore1:\n",
        "      bscore1 = acc1\n",
        "      best_c1 = c\n",
        "    if acc2>bscore2:\n",
        "      bscore2 = acc2\n",
        "      best_c2 = c\n",
        "    if acc3>bscore3:\n",
        "      bscore3 = acc3\n",
        "      best_c3 = c\n",
        "  print('L1-penalized SVM-1st classifier', best_c1)\n",
        "  print('L1-penalized SVM-2nd classifier', best_c2)\n",
        "  print('L1-penalized SVM-3rd classifier', best_c3)\n",
        "  #label1 training\n",
        "  linclfr1 = svm.LinearSVC(C=best_c1, penalty='l1', dual=False, multi_class='ovr')\n",
        "  linclfr1.fit(X_train, y_trncat1)\n",
        "  #label1 prediction\n",
        "  ypred1 = linclfr1.predict(X_test)\n",
        "  #label2 training\n",
        "  linclfr2 = svm.LinearSVC(C=best_c2, penalty='l1', dual=False, multi_class='ovr')\n",
        "  linclfr2.fit(X_train, y_trncat2)\n",
        "  #label2 prediction\n",
        "  ypred2 = linclfr2.predict(X_test)\n",
        "  #label3 training\n",
        "  linclfr3 = svm.LinearSVC(C=best_c3, penalty='l1', dual=False, multi_class='ovr')\n",
        "  linclfr3.fit(X_train, y_trncat3)\n",
        "  #label3 prediction\n",
        "  ypred3 = linclfr3.predict(X_test)\n",
        " \n",
        "  ypred1 = pd.DataFrame(ypred1, columns= [0])\n",
        "  ypred2 = pd.DataFrame(ypred2, columns= [1])\n",
        "  ypred3 = pd.DataFrame(ypred3, columns= [2])\n",
        "  ypred = pd.concat([ypred1, ypred2, ypred3], axis=1)\n",
        "  \n",
        "#Hamming loss\n",
        "  print('The Hamming loss for Linear SVC is', hammings(y_tstcat, ypred))\n",
        "#Exact match\n",
        "  print('The exact match for Linear SVC is', exmatch(y_tstcat, ypred))\n",
        "  \n",
        "L1(X_train,X_train,X_train,y_trncat1,y_trncat2,y_trncat3,X_test,y_tstcat)"
      ],
      "execution_count": null,
      "outputs": [
        {
          "output_type": "stream",
          "text": [
            "L1-penalized SVM-1st classifier 100\n",
            "L1-penalized SVM-2nd classifier 1000\n",
            "L1-penalized SVM-3rd classifier 10\n",
            "The Hamming loss for Linear SVC is 0.0709347606059049\n",
            "The exact match for Linear SVC is 0.9092172301991662\n"
          ],
          "name": "stdout"
        }
      ]
    },
    {
      "cell_type": "markdown",
      "metadata": {
        "id": "5KNxFSm5yPUd",
        "colab_type": "text"
      },
      "source": [
        "**iv. Repeat 1(b)iii by using SMOTE or any other method you know to remedy\n",
        "class imbalance. Report your conclusions about the classifers you trained.**"
      ]
    },
    {
      "cell_type": "code",
      "metadata": {
        "id": "7tmo1dObSGzp",
        "colab_type": "code",
        "colab": {
          "base_uri": "https://localhost:8080/",
          "height": 101
        },
        "outputId": "72acf3cd-9902-47c6-c009-53235084a190"
      },
      "source": [
        "#SMOTE\n",
        "sm = SMOTE(kind='svm')\n",
        "X_trnsm1, y_trnsm1 = sm.fit_sample(X_train, y_trncat1)\n",
        "X_trnsm2, y_trnsm2 = sm.fit_sample(X_train, y_trncat2)\n",
        "X_trnsm3, y_trnsm3 = sm.fit_sample(X_train, y_trncat3)\n",
        "\n",
        "L1(X_trnsm1,X_trnsm2,X_trnsm3,y_trnsm1,y_trnsm2,y_trnsm3,X_test,y_tstcat)\n"
      ],
      "execution_count": null,
      "outputs": [
        {
          "output_type": "stream",
          "text": [
            "SMOTE SVM-1st classifier 100\n",
            "SMOTE SVM-2nd classifier 100\n",
            "SMOTE SVM-3rd classifier 10\n",
            "The Hamming loss for Linear SVC is 0.12540099154272502\n",
            "The exact match for Linear SVC is 0.8175081056044465\n"
          ],
          "name": "stdout"
        }
      ]
    },
    {
      "cell_type": "markdown",
      "metadata": {
        "id": "YRv06HOwyVLD",
        "colab_type": "text"
      },
      "source": [
        "**Conclusions of classifiers trained:**\n",
        "\n",
        "***For SVM penalty weights: The weights for all three classifiers is 100 ***\n",
        "\n",
        "\n",
        "***Gamma can be calculated as 1/(2*(sigma^2)) ***\n",
        "\n",
        "***where sigma is Gaussian kernel width being***\n",
        "\n",
        "***3.1249999999999996 - 1st classifier***\n",
        "\n",
        "***1.388 - 2nd classifier***\n",
        "\n",
        "**2.0 - 3rd classifier ***\n",
        "\n",
        "\n",
        "**For L1-penalized SVM: The weights are 100,1000 and 10 for 1st,2nd and 3rd classifier respectively.**\n",
        "\n",
        "**For SVM - SMOTE: The weights are 100,100 and 10 respectively.**\n",
        "\n",
        "**The exact match scores  are higher for L1-penalized SVM than SMOTE SVM.**\n",
        "\n",
        "***The Hamming Loss of SVM SMOTE is higher than L1-penalized SVM ***"
      ]
    }
  ]
}